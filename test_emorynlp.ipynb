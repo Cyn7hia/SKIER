{
 "cells": [
  {
   "cell_type": "code",
   "execution_count": 4,
   "metadata": {
    "collapsed": true,
    "pycharm": {
     "name": "#%%\n"
    }
   },
   "outputs": [],
   "source": [
    "import pickle\n",
    "speakers, emotion_labels, \\\n",
    "        sentences, trainId, testId, validId = pickle.load(open('./data/EMORY/emorynlp.pkl', 'rb'))"
   ]
  },
  {
   "cell_type": "code",
   "execution_count": 2,
   "outputs": [
    {
     "data": {
      "text/plain": "['tr_0',\n 'tr_1',\n 'tr_2',\n 'tr_3',\n 'tr_4',\n 'tr_5',\n 'tr_6',\n 'tr_7',\n 'tr_8',\n 'tr_9',\n 'tr_10',\n 'tr_11',\n 'tr_12',\n 'tr_13',\n 'tr_14',\n 'tr_15',\n 'tr_16',\n 'tr_17',\n 'tr_18',\n 'tr_19',\n 'tr_20',\n 'tr_21',\n 'tr_22',\n 'tr_23',\n 'tr_24',\n 'tr_25',\n 'tr_26',\n 'tr_27',\n 'tr_28',\n 'tr_29',\n 'tr_30',\n 'tr_31',\n 'tr_32',\n 'tr_33',\n 'tr_34',\n 'tr_35',\n 'tr_36',\n 'tr_37',\n 'tr_38',\n 'tr_39',\n 'tr_40',\n 'tr_41',\n 'tr_42',\n 'tr_43',\n 'tr_44',\n 'tr_45',\n 'tr_46',\n 'tr_47',\n 'tr_48',\n 'tr_49',\n 'tr_50',\n 'tr_51',\n 'tr_52',\n 'tr_53',\n 'tr_54',\n 'tr_55',\n 'tr_56',\n 'tr_57',\n 'tr_58',\n 'tr_59',\n 'tr_60',\n 'tr_61',\n 'tr_62',\n 'tr_63',\n 'tr_64',\n 'tr_65',\n 'tr_66',\n 'tr_67',\n 'tr_68',\n 'tr_69',\n 'tr_70',\n 'tr_71',\n 'tr_72',\n 'tr_73',\n 'tr_74',\n 'tr_75',\n 'tr_76',\n 'tr_77',\n 'tr_78',\n 'tr_79',\n 'tr_80',\n 'tr_81',\n 'tr_82',\n 'tr_83',\n 'tr_84',\n 'tr_85',\n 'tr_86',\n 'tr_87',\n 'tr_88',\n 'tr_89',\n 'tr_90',\n 'tr_91',\n 'tr_92',\n 'tr_93',\n 'tr_94',\n 'tr_95',\n 'tr_96',\n 'tr_97',\n 'tr_98',\n 'tr_99',\n 'tr_100',\n 'tr_101',\n 'tr_102',\n 'tr_103',\n 'tr_104',\n 'tr_105',\n 'tr_106',\n 'tr_107',\n 'tr_108',\n 'tr_109',\n 'tr_110',\n 'tr_111',\n 'tr_112',\n 'tr_113',\n 'tr_114',\n 'tr_115',\n 'tr_116',\n 'tr_117',\n 'tr_118',\n 'tr_119',\n 'tr_120',\n 'tr_121',\n 'tr_122',\n 'tr_123',\n 'tr_124',\n 'tr_125',\n 'tr_126',\n 'tr_127',\n 'tr_128',\n 'tr_129',\n 'tr_130',\n 'tr_131',\n 'tr_132',\n 'tr_133',\n 'tr_134',\n 'tr_135',\n 'tr_136',\n 'tr_137',\n 'tr_138',\n 'tr_139',\n 'tr_140',\n 'tr_141',\n 'tr_142',\n 'tr_143',\n 'tr_144',\n 'tr_145',\n 'tr_146',\n 'tr_147',\n 'tr_148',\n 'tr_149',\n 'tr_150',\n 'tr_151',\n 'tr_152',\n 'tr_153',\n 'tr_154',\n 'tr_155',\n 'tr_156',\n 'tr_157',\n 'tr_158',\n 'tr_159',\n 'tr_160',\n 'tr_161',\n 'tr_162',\n 'tr_163',\n 'tr_164',\n 'tr_165',\n 'tr_166',\n 'tr_167',\n 'tr_168',\n 'tr_169',\n 'tr_170',\n 'tr_171',\n 'tr_172',\n 'tr_173',\n 'tr_174',\n 'tr_175',\n 'tr_176',\n 'tr_177',\n 'tr_178',\n 'tr_179',\n 'tr_180',\n 'tr_181',\n 'tr_182',\n 'tr_183',\n 'tr_184',\n 'tr_185',\n 'tr_186',\n 'tr_187',\n 'tr_188',\n 'tr_189',\n 'tr_190',\n 'tr_191',\n 'tr_192',\n 'tr_193',\n 'tr_194',\n 'tr_195',\n 'tr_196',\n 'tr_197',\n 'tr_198',\n 'tr_199',\n 'tr_200',\n 'tr_201',\n 'tr_202',\n 'tr_203',\n 'tr_204',\n 'tr_205',\n 'tr_206',\n 'tr_207',\n 'tr_208',\n 'tr_209',\n 'tr_210',\n 'tr_211',\n 'tr_212',\n 'tr_213',\n 'tr_214',\n 'tr_215',\n 'tr_216',\n 'tr_217',\n 'tr_218',\n 'tr_219',\n 'tr_220',\n 'tr_221',\n 'tr_222',\n 'tr_223',\n 'tr_224',\n 'tr_225',\n 'tr_226',\n 'tr_227',\n 'tr_228',\n 'tr_229',\n 'tr_230',\n 'tr_231',\n 'tr_232',\n 'tr_233',\n 'tr_234',\n 'tr_235',\n 'tr_236',\n 'tr_237',\n 'tr_238',\n 'tr_239',\n 'tr_240',\n 'tr_241',\n 'tr_242',\n 'tr_243',\n 'tr_244',\n 'tr_245',\n 'tr_246',\n 'tr_247',\n 'tr_248',\n 'tr_249',\n 'tr_250',\n 'tr_251',\n 'tr_252',\n 'tr_253',\n 'tr_254',\n 'tr_255',\n 'tr_256',\n 'tr_257',\n 'tr_258',\n 'tr_259',\n 'tr_260',\n 'tr_261',\n 'tr_262',\n 'tr_263',\n 'tr_264',\n 'tr_265',\n 'tr_266',\n 'tr_267',\n 'tr_268',\n 'tr_269',\n 'tr_270',\n 'tr_271',\n 'tr_272',\n 'tr_273',\n 'tr_274',\n 'tr_275',\n 'tr_276',\n 'tr_277',\n 'tr_278',\n 'tr_279',\n 'tr_280',\n 'tr_281',\n 'tr_282',\n 'tr_283',\n 'tr_284',\n 'tr_285',\n 'tr_286',\n 'tr_287',\n 'tr_288',\n 'tr_289',\n 'tr_290',\n 'tr_291',\n 'tr_292',\n 'tr_293',\n 'tr_294',\n 'tr_295',\n 'tr_296',\n 'tr_297',\n 'tr_298',\n 'tr_299',\n 'tr_300',\n 'tr_301',\n 'tr_302',\n 'tr_303',\n 'tr_304',\n 'tr_305',\n 'tr_306',\n 'tr_307',\n 'tr_308',\n 'tr_309',\n 'tr_310',\n 'tr_311',\n 'tr_312',\n 'tr_313',\n 'tr_314',\n 'tr_315',\n 'tr_316',\n 'tr_317',\n 'tr_318',\n 'tr_319',\n 'tr_320',\n 'tr_321',\n 'tr_322',\n 'tr_323',\n 'tr_324',\n 'tr_325',\n 'tr_326',\n 'tr_327',\n 'tr_328',\n 'tr_329',\n 'tr_330',\n 'tr_331',\n 'tr_332',\n 'tr_333',\n 'tr_334',\n 'tr_335',\n 'tr_336',\n 'tr_337',\n 'tr_338',\n 'tr_339',\n 'tr_340',\n 'tr_341',\n 'tr_342',\n 'tr_343',\n 'tr_344',\n 'tr_345',\n 'tr_346',\n 'tr_347',\n 'tr_348',\n 'tr_349',\n 'tr_350',\n 'tr_351',\n 'tr_352',\n 'tr_353',\n 'tr_354',\n 'tr_355',\n 'tr_356',\n 'tr_357',\n 'tr_358',\n 'tr_359',\n 'tr_360',\n 'tr_361',\n 'tr_362',\n 'tr_363',\n 'tr_364',\n 'tr_365',\n 'tr_366',\n 'tr_367',\n 'tr_368',\n 'tr_369',\n 'tr_370',\n 'tr_371',\n 'tr_372',\n 'tr_373',\n 'tr_374',\n 'tr_375',\n 'tr_376',\n 'tr_377',\n 'tr_378',\n 'tr_379',\n 'tr_380',\n 'tr_381',\n 'tr_382',\n 'tr_383',\n 'tr_384',\n 'tr_385',\n 'tr_386',\n 'tr_387',\n 'tr_388',\n 'tr_389',\n 'tr_390',\n 'tr_391',\n 'tr_392',\n 'tr_393',\n 'tr_394',\n 'tr_395',\n 'tr_396',\n 'tr_397',\n 'tr_398',\n 'tr_399',\n 'tr_400',\n 'tr_401',\n 'tr_402',\n 'tr_403',\n 'tr_404',\n 'tr_405',\n 'tr_406',\n 'tr_407',\n 'tr_408',\n 'tr_409',\n 'tr_410',\n 'tr_411',\n 'tr_412',\n 'tr_413',\n 'tr_414',\n 'tr_415',\n 'tr_416',\n 'tr_417',\n 'tr_418',\n 'tr_419',\n 'tr_420',\n 'tr_421',\n 'tr_422',\n 'tr_423',\n 'tr_424',\n 'tr_425',\n 'tr_426',\n 'tr_427',\n 'tr_428',\n 'tr_429',\n 'tr_430',\n 'tr_431',\n 'tr_432',\n 'tr_433',\n 'tr_434',\n 'tr_435',\n 'tr_436',\n 'tr_437',\n 'tr_438',\n 'tr_439',\n 'tr_440',\n 'tr_441',\n 'tr_442',\n 'tr_443',\n 'tr_444',\n 'tr_445',\n 'tr_446',\n 'tr_447',\n 'tr_448',\n 'tr_449',\n 'tr_450',\n 'tr_451',\n 'tr_452',\n 'tr_453',\n 'tr_454',\n 'tr_455',\n 'tr_456',\n 'tr_457',\n 'tr_458',\n 'tr_459',\n 'tr_460',\n 'tr_461',\n 'tr_462',\n 'tr_463',\n 'tr_464',\n 'tr_465',\n 'tr_466',\n 'tr_467',\n 'tr_468',\n 'tr_469',\n 'tr_470',\n 'tr_471',\n 'tr_472',\n 'tr_473',\n 'tr_474',\n 'tr_475',\n 'tr_476',\n 'tr_477',\n 'tr_478',\n 'tr_479',\n 'tr_480',\n 'tr_481',\n 'tr_482',\n 'tr_483',\n 'tr_484',\n 'tr_485',\n 'tr_486',\n 'tr_487',\n 'tr_488',\n 'tr_489',\n 'tr_490',\n 'tr_491',\n 'tr_492',\n 'tr_493',\n 'tr_494',\n 'tr_495',\n 'tr_496',\n 'tr_497',\n 'tr_498',\n 'tr_499',\n 'tr_500',\n 'tr_501',\n 'tr_502',\n 'tr_503',\n 'tr_504',\n 'tr_505',\n 'tr_506',\n 'tr_507',\n 'tr_508',\n 'tr_509',\n 'tr_510',\n 'tr_511',\n 'tr_512',\n 'tr_513',\n 'tr_514',\n 'tr_515',\n 'tr_516',\n 'tr_517',\n 'tr_518',\n 'tr_519',\n 'tr_520',\n 'tr_521',\n 'tr_522',\n 'tr_523',\n 'tr_524',\n 'tr_525',\n 'tr_526',\n 'tr_527',\n 'tr_528',\n 'tr_529',\n 'tr_530',\n 'tr_531',\n 'tr_532',\n 'tr_533',\n 'tr_534',\n 'tr_535',\n 'tr_536',\n 'tr_537',\n 'tr_538',\n 'tr_539',\n 'tr_540',\n 'tr_541',\n 'tr_542',\n 'tr_543',\n 'tr_544',\n 'tr_545',\n 'tr_546',\n 'tr_547',\n 'tr_548',\n 'tr_549',\n 'tr_550',\n 'tr_551',\n 'tr_552',\n 'tr_553',\n 'tr_554',\n 'tr_555',\n 'tr_556',\n 'tr_557',\n 'tr_558',\n 'tr_559',\n 'tr_560',\n 'tr_561',\n 'tr_562',\n 'tr_563',\n 'tr_564',\n 'tr_565',\n 'tr_566',\n 'tr_567',\n 'tr_568',\n 'tr_569',\n 'tr_570',\n 'tr_571',\n 'tr_572',\n 'tr_573',\n 'tr_574',\n 'tr_575',\n 'tr_576',\n 'tr_577',\n 'tr_578',\n 'tr_579',\n 'tr_580',\n 'tr_581',\n 'tr_582',\n 'tr_583',\n 'tr_584',\n 'tr_585',\n 'tr_586',\n 'tr_587',\n 'tr_588',\n 'tr_589',\n 'tr_590',\n 'tr_591',\n 'tr_592',\n 'tr_593',\n 'tr_594',\n 'tr_595',\n 'tr_596',\n 'tr_597',\n 'tr_598',\n 'tr_599',\n 'tr_600',\n 'tr_601',\n 'tr_602',\n 'tr_603',\n 'tr_604',\n 'tr_605',\n 'tr_606',\n 'tr_607',\n 'tr_608',\n 'tr_609',\n 'tr_610',\n 'tr_611',\n 'tr_612',\n 'tr_613',\n 'tr_614',\n 'tr_615',\n 'tr_616',\n 'tr_617',\n 'tr_618',\n 'tr_619',\n 'tr_620',\n 'tr_621',\n 'tr_622',\n 'tr_623',\n 'tr_624',\n 'tr_625',\n 'tr_626',\n 'tr_627',\n 'tr_628',\n 'tr_629',\n 'tr_630',\n 'tr_631',\n 'tr_632',\n 'tr_633',\n 'tr_634',\n 'tr_635',\n 'tr_636',\n 'tr_637',\n 'tr_638',\n 'tr_639',\n 'tr_640',\n 'tr_641',\n 'tr_642',\n 'tr_643',\n 'tr_644',\n 'tr_645',\n 'tr_646',\n 'tr_647',\n 'tr_648',\n 'tr_649',\n 'tr_650',\n 'tr_651',\n 'tr_652',\n 'tr_653',\n 'tr_654',\n 'tr_655',\n 'tr_656',\n 'tr_657',\n 'tr_658',\n 'tr_659',\n 'tr_660',\n 'tr_661',\n 'tr_662',\n 'tr_663',\n 'tr_664',\n 'tr_665',\n 'tr_666',\n 'tr_667',\n 'tr_668',\n 'tr_669',\n 'tr_670',\n 'tr_671',\n 'tr_672',\n 'tr_673',\n 'tr_674',\n 'tr_675',\n 'tr_676',\n 'tr_677',\n 'tr_678',\n 'tr_679',\n 'tr_680',\n 'tr_681',\n 'tr_682',\n 'tr_683',\n 'tr_684',\n 'tr_685',\n 'tr_686',\n 'tr_687',\n 'tr_688',\n 'tr_689',\n 'tr_690',\n 'tr_691',\n 'tr_692',\n 'tr_693',\n 'tr_694',\n 'tr_695',\n 'tr_696',\n 'tr_697',\n 'tr_698',\n 'tr_699',\n 'tr_700',\n 'tr_701',\n 'tr_702',\n 'tr_703',\n 'tr_704',\n 'tr_705',\n 'tr_706',\n 'tr_707',\n 'tr_708',\n 'tr_709',\n 'tr_710',\n 'tr_711',\n 'tr_712']"
     },
     "execution_count": 2,
     "metadata": {},
     "output_type": "execute_result"
    }
   ],
   "source": [
    "trainId"
   ],
   "metadata": {
    "collapsed": false,
    "pycharm": {
     "name": "#%%\n"
    }
   }
  },
  {
   "cell_type": "code",
   "execution_count": 5,
   "outputs": [
    {
     "data": {
      "text/plain": "897"
     },
     "execution_count": 5,
     "metadata": {},
     "output_type": "execute_result"
    }
   ],
   "source": [
    "len(sentences.keys())"
   ],
   "metadata": {
    "collapsed": false,
    "pycharm": {
     "name": "#%%\n"
    }
   }
  },
  {
   "cell_type": "code",
   "execution_count": 6,
   "outputs": [],
   "source": [
    "print_train = []\n",
    "print_valid = []\n",
    "print_test = []\n",
    "for id in trainId:\n",
    "        edus = []\n",
    "        for sp, text in zip(speakers[id], sentences[id]):\n",
    "                edus.append({'text':text, 'speaker': sp.index(1)})\n",
    "        print_train.append({'id':id, 'edus': edus, 'relations':[]})\n",
    "\n",
    "for id in validId:\n",
    "        edus = []\n",
    "        for sp, text in zip(speakers[id], sentences[id]):\n",
    "                edus.append({'text':text, 'speaker': sp.index(1)})\n",
    "        print_valid.append({'id':id, 'edus': edus, 'relations':[]})\n",
    "\n",
    "for id in testId:\n",
    "        edus = []\n",
    "        for sp, text in zip(speakers[id], sentences[id]):\n",
    "                edus.append({'text':text, 'speaker': sp.index(1)})\n",
    "        print_test.append({'id':id, 'edus': edus, 'relations':[]})"
   ],
   "metadata": {
    "collapsed": false,
    "pycharm": {
     "name": "#%%\n"
    }
   }
  },
  {
   "cell_type": "code",
   "execution_count": 8,
   "outputs": [],
   "source": [
    "import json\n",
    "with open('./data/EMORY/emoryNLP_train.json', 'w') as f:\n",
    "        json.dump(print_train, f)\n",
    "f.close()"
   ],
   "metadata": {
    "collapsed": false,
    "pycharm": {
     "name": "#%%\n"
    }
   }
  },
  {
   "cell_type": "code",
   "execution_count": 8,
   "outputs": [],
   "source": [
    "import pickle\n",
    "res= pickle.load(open('./data/EmoryNLP/emorynlp_sentences.pkl', 'rb'))"
   ],
   "metadata": {
    "collapsed": false,
    "pycharm": {
     "name": "#%%\n"
    }
   }
  },
  {
   "cell_type": "code",
   "execution_count": 9,
   "outputs": [
    {
     "data": {
      "text/plain": "827"
     },
     "execution_count": 9,
     "metadata": {},
     "output_type": "execute_result"
    }
   ],
   "source": [
    "len(res)"
   ],
   "metadata": {
    "collapsed": false,
    "pycharm": {
     "name": "#%%\n"
    }
   }
  },
  {
   "cell_type": "code",
   "execution_count": 10,
   "outputs": [],
   "source": [
    "import json\n",
    "res_meld = json.load(open('./data/meld/test_stac.json', 'rb'))"
   ],
   "metadata": {
    "collapsed": false,
    "pycharm": {
     "name": "#%%\n"
    }
   }
  },
  {
   "cell_type": "code",
   "execution_count": 15,
   "outputs": [
    {
     "data": {
      "text/plain": "[{'y': 1, 'x': 0, 'type': None},\n {'y': 2, 'x': 1, 'type': None},\n {'y': 3, 'x': 2, 'type': None},\n {'y': 4, 'x': 3, 'type': None},\n {'y': 5, 'x': 4, 'type': None},\n {'y': 6, 'x': 5, 'type': None},\n {'y': 7, 'x': 6, 'type': None},\n {'y': 8, 'x': 7, 'type': None},\n {'y': 1, 'x': 0, 'type': 'Acknowledgement', 'type_num': 7},\n {'y': 2, 'x': 0, 'type': 'Comment', 'type_num': 2},\n {'y': 3, 'x': 2, 'type': 'Comment', 'type_num': 2},\n {'y': 4, 'x': 3, 'type': 'Clarification_question', 'type_num': 3},\n {'y': 5, 'x': 4, 'type': 'Question-answer_pair', 'type_num': 4},\n {'y': 6, 'x': 5, 'type': 'Clarification_question', 'type_num': 3},\n {'y': 7, 'x': 6, 'type': 'Comment', 'type_num': 2},\n {'y': 8, 'x': 7, 'type': 'Comment', 'type_num': 2}]"
     },
     "execution_count": 15,
     "metadata": {},
     "output_type": "execute_result"
    }
   ],
   "source": [
    "res_meld[7]['relations']"
   ],
   "metadata": {
    "collapsed": false,
    "pycharm": {
     "name": "#%%\n"
    }
   }
  },
  {
   "cell_type": "code",
   "execution_count": 1,
   "outputs": [],
   "source": [
    "import json\n",
    "res_emory = json.load(open('./data/EmoryNLP/train_annotated.json', 'rb'))"
   ],
   "metadata": {
    "collapsed": false,
    "pycharm": {
     "name": "#%%\n"
    }
   }
  },
  {
   "cell_type": "code",
   "execution_count": 9,
   "outputs": [
    {
     "data": {
      "text/plain": "[{'y': 1, 'x': 0, 'type': 'Explanation', 'type_num': 1},\n {'y': 2, 'x': 0, 'type': 'Comment', 'type_num': 2},\n {'y': 3, 'x': 0, 'type': 'Q-Elab', 'type_num': 13},\n {'y': 4, 'x': 3, 'type': 'Question-answer_pair', 'type_num': 4},\n {'y': 5, 'x': 4, 'type': 'Comment', 'type_num': 2},\n {'y': 6, 'x': 5, 'type': 'Comment', 'type_num': 2},\n {'y': 7, 'x': 6, 'type': 'Clarification_question', 'type_num': 3},\n {'y': 8, 'x': 7, 'type': 'Question-answer_pair', 'type_num': 4},\n {'y': 9, 'x': 7, 'type': 'Question-answer_pair', 'type_num': 4},\n {'y': 10, 'x': 9, 'type': 'Comment', 'type_num': 2},\n {'y': 11, 'x': 10, 'type': 'Comment', 'type_num': 2},\n {'y': 12, 'x': 11, 'type': 'Continuation', 'type_num': 0}]"
     },
     "execution_count": 9,
     "metadata": {},
     "output_type": "execute_result"
    }
   ],
   "source": [
    "res_emory[11]['relations']"
   ],
   "metadata": {
    "collapsed": false,
    "pycharm": {
     "name": "#%%\n"
    }
   }
  },
  {
   "cell_type": "markdown",
   "source": [
    "Combine raw data with parsing data"
   ],
   "metadata": {
    "collapsed": false,
    "pycharm": {
     "name": "#%% md\n"
    }
   }
  },
  {
   "cell_type": "code",
   "execution_count": 1,
   "outputs": [],
   "source": [
    "import pickle\n",
    "speakers, emotion_labels, \\\n",
    "        sentences, trainId, testId, validId = pickle.load(open('./data/EMORY/emorynlp.pkl', 'rb'))"
   ],
   "metadata": {
    "collapsed": false,
    "pycharm": {
     "name": "#%%\n"
    }
   }
  },
  {
   "cell_type": "code",
   "execution_count": 10,
   "outputs": [],
   "source": [
    "import json\n",
    "diag_str = json.load(open('./data/EMORY/test_fine_tuned.json','r'))"
   ],
   "metadata": {
    "collapsed": false,
    "pycharm": {
     "name": "#%%\n"
    }
   }
  },
  {
   "cell_type": "code",
   "execution_count": 3,
   "outputs": [],
   "source": [
    "# used to check if there is a None in relations\n",
    "for i in diag_str:\n",
    "    for j in i['relations']:\n",
    "        if len(j) == 4 and j['type'] == 'None':\n",
    "            print('outlier!')"
   ],
   "metadata": {
    "collapsed": false,
    "pycharm": {
     "name": "#%%\n"
    }
   }
  },
  {
   "cell_type": "code",
   "execution_count": 4,
   "outputs": [
    {
     "name": "stdout",
     "output_type": "stream",
     "text": [
      "0\n"
     ]
    }
   ],
   "source": [
    "count = 0\n",
    "for i in diag_str:\n",
    "    length = len(i['edus'])\n",
    "    node = []\n",
    "    for j in i['relations']:\n",
    "        if len(j) == 4:\n",
    "            node.append(j['y'])\n",
    "            node.append(j['x'])\n",
    "    node = set(node)\n",
    "    if len(node) != length:\n",
    "        count+=1\n",
    "        print('not equal!')\n",
    "        print(length, len(node))\n",
    "        print(i['relations'])\n",
    "print(count)"
   ],
   "metadata": {
    "collapsed": false,
    "pycharm": {
     "name": "#%%\n"
    }
   }
  },
  {
   "cell_type": "code",
   "execution_count": 13,
   "outputs": [],
   "source": [
    "diag_str_tr = json.load(open('./data/EMORY/train_fine_tuned.json','r'))"
   ],
   "metadata": {
    "collapsed": false,
    "pycharm": {
     "name": "#%%\n"
    }
   }
  },
  {
   "cell_type": "code",
   "execution_count": 15,
   "outputs": [],
   "source": [
    "diag_str_va = json.load(open('./data/EMORY/valid_fine_tuned.json','r'))"
   ],
   "metadata": {
    "collapsed": false,
    "pycharm": {
     "name": "#%%\n"
    }
   }
  },
  {
   "cell_type": "code",
   "execution_count": 6,
   "outputs": [],
   "source": [
    "import copy\n",
    "for data in [diag_str_tr, diag_str_va, diag_str]:\n",
    "    for dial in data:\n",
    "        relations = copy.deepcopy(dial['relations'])\n",
    "        for line in relations:\n",
    "            if line['type'] is None:\n",
    "                dial['relations'].remove(line)"
   ],
   "metadata": {
    "collapsed": false,
    "pycharm": {
     "name": "#%%\n"
    }
   }
  },
  {
   "cell_type": "code",
   "execution_count": 7,
   "outputs": [],
   "source": [
    "structure = {}"
   ],
   "metadata": {
    "collapsed": false,
    "pycharm": {
     "name": "#%%\n"
    }
   }
  },
  {
   "cell_type": "code",
   "execution_count": 8,
   "outputs": [],
   "source": [
    "for data in [diag_str_tr, diag_str_va, diag_str]:\n",
    "    for item_s in data:\n",
    "        structure[item_s['id']] = item_s['relations']"
   ],
   "metadata": {
    "collapsed": false,
    "pycharm": {
     "name": "#%%\n"
    }
   }
  },
  {
   "cell_type": "code",
   "execution_count": 9,
   "outputs": [],
   "source": [
    "printlist = [ speakers, emotion_labels, sentences, trainId, testId, validId, structure]\n",
    "pickle.dump(printlist, open('./data/EMORY/EMORY_parsed.pkl', 'wb'))"
   ],
   "metadata": {
    "collapsed": false,
    "pycharm": {
     "name": "#%%\n"
    }
   }
  },
  {
   "cell_type": "markdown",
   "source": [
    "This is the code block for relation simplication (EMORY_NLP)"
   ],
   "metadata": {
    "collapsed": false,
    "pycharm": {
     "name": "#%% md\n"
    }
   }
  },
  {
   "cell_type": "code",
   "execution_count": 23,
   "outputs": [],
   "source": [
    "import pickle\n",
    "speakers_, emotion_labels_, sentences_, trainId, testId, validId, structure_ = pickle.load(open('./data/EMORY/EMORY.pkl', 'rb'))"
   ],
   "metadata": {
    "collapsed": false,
    "pycharm": {
     "name": "#%%\n"
    }
   }
  },
  {
   "cell_type": "code",
   "execution_count": 24,
   "outputs": [
    {
     "data": {
      "text/plain": "897"
     },
     "execution_count": 24,
     "metadata": {},
     "output_type": "execute_result"
    }
   ],
   "source": [
    "len(structure_.keys())"
   ],
   "metadata": {
    "collapsed": false,
    "pycharm": {
     "name": "#%%\n"
    }
   }
  },
  {
   "cell_type": "code",
   "execution_count": 25,
   "outputs": [],
   "source": [
    "relations = {}\n",
    "for key in structure_.keys():\n",
    "    for rels in structure_[key]:\n",
    "        relations[rels['type']] = rels['type_num']"
   ],
   "metadata": {
    "collapsed": false,
    "pycharm": {
     "name": "#%%\n"
    }
   }
  },
  {
   "cell_type": "code",
   "execution_count": 26,
   "outputs": [
    {
     "data": {
      "text/plain": "{'Clarification_question': 3,\n 'Comment': 2,\n 'Continuation': 0,\n 'Question-answer_pair': 4,\n 'Elaboration': 10,\n 'Q-Elab': 13,\n 'Acknowledgement': 7,\n 'Contrast': 6,\n 'Correction': 5}"
     },
     "execution_count": 26,
     "metadata": {},
     "output_type": "execute_result"
    }
   ],
   "source": [
    "revised_relations = relations\n",
    "relations"
   ],
   "metadata": {
    "collapsed": false,
    "pycharm": {
     "name": "#%%\n"
    }
   }
  },
  {
   "cell_type": "code",
   "execution_count": 27,
   "outputs": [
    {
     "data": {
      "text/plain": "{'Clarification_question': 3,\n 'Comment': 2,\n 'Continuation': 0,\n 'Question-answer_pair': 4,\n 'Elaboration': 1,\n 'Q-Elab': 8,\n 'Acknowledgement': 7,\n 'Contrast': 6,\n 'Correction': 5}"
     },
     "execution_count": 27,
     "metadata": {},
     "output_type": "execute_result"
    }
   ],
   "source": [
    "revised_relations['Elaboration'] = 1\n",
    "revised_relations['Q-Elab'] = 8\n",
    "revised_relations"
   ],
   "metadata": {
    "collapsed": false,
    "pycharm": {
     "name": "#%%\n"
    }
   }
  },
  {
   "cell_type": "code",
   "execution_count": 28,
   "outputs": [],
   "source": [
    "for key in structure_.keys():\n",
    "    for idx, rels in enumerate(structure_[key]):\n",
    "        if rels['type'] == 'Elaboration':\n",
    "            structure_[key][idx]['type_num'] = revised_relations['Elaboration']\n",
    "        elif rels['type'] == 'Q-Elab':\n",
    "            structure_[key][idx]['type_num'] = revised_relations['Q-Elab']"
   ],
   "metadata": {
    "collapsed": false,
    "pycharm": {
     "name": "#%%\n"
    }
   }
  },
  {
   "cell_type": "code",
   "execution_count": 29,
   "outputs": [],
   "source": [
    "printlist = [speakers_, emotion_labels_, sentences_, trainId, testId, validId, structure_]\n",
    "pickle.dump(printlist, open('./data/EMORY/EMORY_revised.pkl', 'wb'))"
   ],
   "metadata": {
    "collapsed": false,
    "pycharm": {
     "name": "#%%\n"
    }
   }
  },
  {
   "cell_type": "markdown",
   "source": [
    "map_relations = {u'Comment': 2, u'Clarification_question': 3, u'Elaboration': 10, u'Acknowledgement': 7, u'Continuation': 0, u'Explanation': 1, u'Conditional': 11, u'Parallel': 14, u'Q-Elab': 13, u'Contrast': 6, u'Background': 8, u'Narration': 12, u'Alternation': 15, u'Correction': 5, u'Question-answer_pair': 4, u'Result': 9}"
   ],
   "metadata": {
    "collapsed": false,
    "pycharm": {
     "name": "#%% md\n"
    }
   }
  },
  {
   "cell_type": "code",
   "execution_count": 61,
   "outputs": [],
   "source": [
    "relations = {}\n",
    "for key in structure_.keys():\n",
    "    for rels in structure_[key]:\n",
    "        relations[rels['type']] = 0"
   ],
   "metadata": {
    "collapsed": false,
    "pycharm": {
     "name": "#%%\n"
    }
   }
  },
  {
   "cell_type": "code",
   "execution_count": 63,
   "outputs": [],
   "source": [
    "for key in structure_.keys():\n",
    "    for rels in structure_[key]:\n",
    "        relations[rels['type']] +=1"
   ],
   "metadata": {
    "collapsed": false,
    "pycharm": {
     "name": "#%%\n"
    }
   }
  },
  {
   "cell_type": "code",
   "execution_count": 64,
   "outputs": [
    {
     "data": {
      "text/plain": "{'Clarification_question': 1116,\n 'Question-answer_pair': 1687,\n 'Contrast': 230,\n 'Comment': 2318,\n 'Continuation': 2004,\n 'Elaboration': 325,\n 'Acknowledgement': 583,\n 'Correction': 57,\n 'Q-Elab': 342}"
     },
     "execution_count": 64,
     "metadata": {},
     "output_type": "execute_result"
    }
   ],
   "source": [
    "relations"
   ],
   "metadata": {
    "collapsed": false,
    "pycharm": {
     "name": "#%%\n"
    }
   }
  },
  {
   "cell_type": "code",
   "execution_count": null,
   "outputs": [],
   "source": [],
   "metadata": {
    "collapsed": false,
    "pycharm": {
     "name": "#%%\n"
    }
   }
  },
  {
   "cell_type": "code",
   "execution_count": null,
   "outputs": [],
   "source": [],
   "metadata": {
    "collapsed": false,
    "pycharm": {
     "name": "#%%\n"
    }
   }
  },
  {
   "cell_type": "code",
   "execution_count": null,
   "outputs": [],
   "source": [],
   "metadata": {
    "collapsed": false,
    "pycharm": {
     "name": "#%%\n"
    }
   }
  },
  {
   "cell_type": "code",
   "execution_count": 1,
   "outputs": [],
   "source": [
    "with open('./data/EMORY/EMORY_train.txt', 'r') as f:\n",
    "    dataset = f.readlines()\n",
    "f.close()"
   ],
   "metadata": {
    "collapsed": false,
    "pycharm": {
     "name": "#%%\n"
    }
   }
  },
  {
   "cell_type": "code",
   "execution_count": 2,
   "outputs": [],
   "source": [
    "# emodict = {'Joyful': \"joy\", 'Mad': \"mad\", 'Peaceful': \"peaceful\", 'Powerful': \"powerful\", 'Neutral': \"neutral\", 'Sad': \"sad\", 'Scared': 'scared'}\n",
    "emodict = {'Joyful': 0, 'Mad': 1, 'Peaceful': 2, 'Neutral': 3, 'Sad': 4, 'Powerful': 5, 'Scared': 6}\n",
    "speakerList = []\n",
    "speakerNum = []\n",
    "emoSet = set()\n",
    "\n",
    "prefix = 'tr_'\n",
    "dialogs = {}\n",
    "emoLabels = {}\n",
    "speakers = {}\n",
    "id = prefix + '0'\n",
    "sentences = []\n",
    "speaker = []\n",
    "label = []\n",
    "dial_count = 0\n",
    "for i, data in enumerate(dataset):\n",
    "\n",
    "    if data == '\\n' and len(sentences) > 0:\n",
    "        # speakerNum.append(len(temp_speakerList))\n",
    "        # temp_speakerList = []\n",
    "        dialogs[id] = sentences\n",
    "        # speakers[id] = speaker\n",
    "        emoLabels[id] = label\n",
    "\n",
    "        speakerList = []\n",
    "        speaker_vec = [[0 for _ in range(9)]for x in range(len(speaker))]\n",
    "        for s in speaker:\n",
    "            if s not in speakerList:\n",
    "                speakerList.append(s)\n",
    "        for idx, s in enumerate(speaker):\n",
    "            sp_idx = speakerList.index(s)\n",
    "            speaker_vec[idx][sp_idx] = 1\n",
    "\n",
    "        speakers[id] = speaker_vec\n",
    "        sentences = []\n",
    "        speaker = []\n",
    "        label = []\n",
    "        dial_count += 1\n",
    "        id = prefix + str(dial_count)\n",
    "        continue\n",
    "\n",
    "    sp, utt, emo = data.strip().split('\\t')\n",
    "    sentences.append(utt)\n",
    "    label.append(emodict[emo])\n",
    "    speaker.append(sp)\n"
   ],
   "metadata": {
    "collapsed": false,
    "pycharm": {
     "name": "#%%\n"
    }
   }
  },
  {
   "cell_type": "code",
   "execution_count": 3,
   "outputs": [],
   "source": [
    "tr_dialog = dialogs\n",
    "tr_sentences = sentences\n",
    "tr_labels = emoLabels\n",
    "tr_speaker = speakers"
   ],
   "metadata": {
    "collapsed": false,
    "pycharm": {
     "name": "#%%\n"
    }
   }
  },
  {
   "cell_type": "code",
   "execution_count": 4,
   "outputs": [],
   "source": [
    "with open('./data/EMORY/EMORY_dev.txt', 'r') as f:\n",
    "    dataset = f.readlines()\n",
    "f.close()"
   ],
   "metadata": {
    "collapsed": false,
    "pycharm": {
     "name": "#%%\n"
    }
   }
  },
  {
   "cell_type": "code",
   "execution_count": 5,
   "outputs": [],
   "source": [
    "# emodict = {'Joyful': \"joy\", 'Mad': \"mad\", 'Peaceful': \"peaceful\", 'Powerful': \"powerful\", 'Neutral': \"neutral\", 'Sad': \"sad\", 'Scared': 'scared'}\n",
    "emodict = {'Joyful': 0, 'Mad': 1, 'Peaceful': 2, 'Neutral': 3, 'Sad': 4, 'Powerful': 5, 'Scared': 6}\n",
    "speakerList = []\n",
    "speakerNum = []\n",
    "emoSet = set()\n",
    "\n",
    "prefix = 'va_'\n",
    "dialogs = {}\n",
    "emoLabels = {}\n",
    "speakers = {}\n",
    "id = prefix + '0'\n",
    "sentences = []\n",
    "speaker = []\n",
    "label = []\n",
    "dial_count = 0\n",
    "for i, data in enumerate(dataset):\n",
    "\n",
    "    if data == '\\n' and len(sentences) > 0:\n",
    "        # speakerNum.append(len(temp_speakerList))\n",
    "        # temp_speakerList = []\n",
    "        dialogs[id] = sentences\n",
    "        # speakers[id] = speaker\n",
    "        emoLabels[id] = label\n",
    "\n",
    "        speakerList = []\n",
    "        speaker_vec = [[0 for _ in range(9)]for x in range(len(speaker))]\n",
    "        for s in speaker:\n",
    "            if s not in speakerList:\n",
    "                speakerList.append(s)\n",
    "        for idx, s in enumerate(speaker):\n",
    "            sp_idx = speakerList.index(s)\n",
    "            speaker_vec[idx][sp_idx] = 1\n",
    "\n",
    "        speakers[id] = speaker_vec\n",
    "        sentences = []\n",
    "        speaker = []\n",
    "        label = []\n",
    "        dial_count += 1\n",
    "        id = prefix + str(dial_count)\n",
    "        continue\n",
    "\n",
    "    sp, utt, emo = data.strip().split('\\t')\n",
    "    sentences.append(utt)\n",
    "    label.append(emodict[emo])\n",
    "    speaker.append(sp)\n"
   ],
   "metadata": {
    "collapsed": false,
    "pycharm": {
     "name": "#%%\n"
    }
   }
  },
  {
   "cell_type": "code",
   "execution_count": 6,
   "outputs": [],
   "source": [
    "va_dialog = dialogs\n",
    "va_sentences = sentences\n",
    "va_labels = emoLabels\n",
    "va_speaker = speakers"
   ],
   "metadata": {
    "collapsed": false,
    "pycharm": {
     "name": "#%%\n"
    }
   }
  },
  {
   "cell_type": "code",
   "execution_count": 7,
   "outputs": [],
   "source": [
    "with open('./data/EMORY/EMORY_test.txt', 'r') as f:\n",
    "    dataset = f.readlines()\n",
    "f.close()"
   ],
   "metadata": {
    "collapsed": false,
    "pycharm": {
     "name": "#%%\n"
    }
   }
  },
  {
   "cell_type": "code",
   "execution_count": 8,
   "outputs": [],
   "source": [
    "# emodict = {'Joyful': \"joy\", 'Mad': \"mad\", 'Peaceful': \"peaceful\", 'Powerful': \"powerful\", 'Neutral': \"neutral\", 'Sad': \"sad\", 'Scared': 'scared'}\n",
    "emodict = {'Joyful': 0, 'Mad': 1, 'Peaceful': 2, 'Neutral': 3, 'Sad': 4, 'Powerful': 5, 'Scared': 6}\n",
    "speakerList = []\n",
    "speakerNum = []\n",
    "emoSet = set()\n",
    "\n",
    "prefix = 'te_'\n",
    "dialogs = {}\n",
    "emoLabels = {}\n",
    "speakers = {}\n",
    "id = prefix + '0'\n",
    "sentences = []\n",
    "speaker = []\n",
    "label = []\n",
    "dial_count = 0\n",
    "for i, data in enumerate(dataset):\n",
    "\n",
    "    if data == '\\n' and len(sentences) > 0:\n",
    "        # speakerNum.append(len(temp_speakerList))\n",
    "        # temp_speakerList = []\n",
    "        dialogs[id] = sentences\n",
    "        # speakers[id] = speaker\n",
    "        emoLabels[id] = label\n",
    "\n",
    "        speakerList = []\n",
    "        speaker_vec = [[0 for _ in range(9)]for x in range(len(speaker))]\n",
    "        for s in speaker:\n",
    "            if s not in speakerList:\n",
    "                speakerList.append(s)\n",
    "        for idx, s in enumerate(speaker):\n",
    "            sp_idx = speakerList.index(s)\n",
    "            speaker_vec[idx][sp_idx] = 1\n",
    "\n",
    "        speakers[id] = speaker_vec\n",
    "        sentences = []\n",
    "        speaker = []\n",
    "        label = []\n",
    "        dial_count += 1\n",
    "        id = prefix + str(dial_count)\n",
    "        continue\n",
    "\n",
    "    sp, utt, emo = data.strip().split('\\t')\n",
    "    sentences.append(utt)\n",
    "    label.append(emodict[emo])\n",
    "    speaker.append(sp)\n"
   ],
   "metadata": {
    "collapsed": false,
    "pycharm": {
     "name": "#%%\n"
    }
   }
  },
  {
   "cell_type": "code",
   "execution_count": 9,
   "outputs": [],
   "source": [
    "te_dialog = dialogs\n",
    "te_sentences = sentences\n",
    "te_labels = emoLabels\n",
    "te_speaker = speakers"
   ],
   "metadata": {
    "collapsed": false,
    "pycharm": {
     "name": "#%%\n"
    }
   }
  },
  {
   "cell_type": "code",
   "execution_count": 13,
   "outputs": [],
   "source": [
    "trainId, testId, validId = list(tr_dialog.keys()), list(te_dialog.keys()), list(va_dialog.keys())"
   ],
   "metadata": {
    "collapsed": false,
    "pycharm": {
     "name": "#%%\n"
    }
   }
  },
  {
   "cell_type": "code",
   "execution_count": 25,
   "outputs": [],
   "source": [
    "tr_dialog.update(va_dialog)"
   ],
   "metadata": {
    "collapsed": false,
    "pycharm": {
     "name": "#%%\n"
    }
   }
  },
  {
   "cell_type": "code",
   "execution_count": 29,
   "outputs": [],
   "source": [
    "tr_dialog.update(te_dialog)"
   ],
   "metadata": {
    "collapsed": false,
    "pycharm": {
     "name": "#%%\n"
    }
   }
  },
  {
   "cell_type": "code",
   "execution_count": 35,
   "outputs": [],
   "source": [
    "tr_labels.update(va_labels)\n",
    "tr_labels.update(te_labels)"
   ],
   "metadata": {
    "collapsed": false,
    "pycharm": {
     "name": "#%%\n"
    }
   }
  },
  {
   "cell_type": "code",
   "execution_count": 37,
   "outputs": [],
   "source": [
    "tr_speaker.update(va_speaker)\n",
    "tr_speaker.update(te_speaker)"
   ],
   "metadata": {
    "collapsed": false,
    "pycharm": {
     "name": "#%%\n"
    }
   }
  },
  {
   "cell_type": "code",
   "execution_count": 42,
   "outputs": [],
   "source": [
    "import pickle\n",
    "printlist = [tr_speaker, tr_labels, tr_dialog, trainId, testId, validId]\n",
    "pickle.dump(printlist, open('./data/EMORY/emorynlp.pkl', 'wb'))"
   ],
   "metadata": {
    "collapsed": false,
    "pycharm": {
     "name": "#%%\n"
    }
   }
  },
  {
   "cell_type": "code",
   "execution_count": 2,
   "outputs": [],
   "source": [
    "import pickle\n",
    "speakers, emotion_labels, \\\n",
    "        sentences, trainId, testId, validId = pickle.load(open('./data/EMORY/emorynlp.pkl', 'rb'))"
   ],
   "metadata": {
    "collapsed": false,
    "pycharm": {
     "name": "#%%\n"
    }
   }
  },
  {
   "cell_type": "code",
   "execution_count": 8,
   "outputs": [
    {
     "data": {
      "text/plain": "[\"What you guys don't understand is, for us, kissing is as important as any part of it.\",\n \"Yeah, right!.......Y'serious?\",\n 'Oh, yeah!',\n 'Everything you need to know is in that first kiss.',\n 'Absolutely.',\n \"Yeah, I think for us, kissing is pretty much like an opening act, y'know? I mean it's like the stand-up comedian you have to sit through before Pink Floyd comes out.\",\n \"Yeah, and-and it's not that we don't like the comedian, it's that-that... that's not why we bought the ticket.\",\n \"The problem is, though, after the concert's over, no matter how great the show was, you girls are always looking for the comedian again, y'know? I mean, we're in the car, we're fighting traffic... basically just trying to stay awake.\",\n \"Yeah, well, word of advice: Bring back the comedian. Otherwise next time you're gonna find yourself sitting at home, listening to that album alone.\",\n '....Are we still talking about sex?']"
     },
     "execution_count": 8,
     "metadata": {},
     "output_type": "execute_result"
    }
   ],
   "source": [
    "sentences['tr_0']"
   ],
   "metadata": {
    "collapsed": false,
    "pycharm": {
     "name": "#%%\n"
    }
   }
  },
  {
   "cell_type": "code",
   "execution_count": 3,
   "outputs": [],
   "source": [
    "import pickle\n",
    "convSpeakers, convInputSequence, convinputMaxSequenceLength, convActLabels, convEmotionLabels, train_conv_ids, test_conv_ids, valid_conv_ids = pickle.load(open('./data/dailydialog/daily_dialogue.pkl', 'rb'))"
   ],
   "metadata": {
    "collapsed": false,
    "pycharm": {
     "name": "#%%\n"
    }
   }
  },
  {
   "cell_type": "code",
   "execution_count": 4,
   "outputs": [],
   "source": [
    "diag_act_te = pickle.load(open('./data/dailydialog/test_raw_triples_dialydialog.pkl', 'rb'))"
   ],
   "metadata": {
    "collapsed": false,
    "pycharm": {
     "name": "#%%\n"
    }
   }
  },
  {
   "cell_type": "code",
   "execution_count": 5,
   "outputs": [],
   "source": [
    "diag_act_tr = pickle.load(open('./data/dailydialog/train_raw_triples_dailydialog.pkl', 'rb'))"
   ],
   "metadata": {
    "collapsed": false,
    "pycharm": {
     "name": "#%%\n"
    }
   }
  },
  {
   "cell_type": "code",
   "execution_count": 6,
   "outputs": [],
   "source": [
    "diag_act_va = pickle.load(open('./data/dailydialog/valid_raw_triples_dialydialog.pkl', 'rb'))"
   ],
   "metadata": {
    "collapsed": false,
    "pycharm": {
     "name": "#%%\n"
    }
   }
  },
  {
   "cell_type": "code",
   "execution_count": 8,
   "outputs": [],
   "source": [
    "import json\n",
    "diag_str_te = json.load(open('./data/dailydialog/test_parsed.json','r'))\n",
    "diag_str_va = json.load(open('./data/dailydialog/valid_parsed.json','r'))\n",
    "diag_str_tr = json.load(open('./data/dailydialog/train_parsed.json','r'))"
   ],
   "metadata": {
    "collapsed": false,
    "pycharm": {
     "name": "#%%\n"
    }
   }
  },
  {
   "cell_type": "code",
   "execution_count": 10,
   "outputs": [
    {
     "data": {
      "text/plain": "[{'y': 1, 'x': 0, 'type': 'Comment', 'type_num': 2},\n {'y': 2, 'x': 1, 'type': 'Result', 'type_num': 9},\n {'y': 3, 'x': 0, 'type': 'Contrast', 'type_num': 6},\n {'y': 4, 'x': 3, 'type': 'Comment', 'type_num': 2},\n {'y': 5, 'x': 4, 'type': 'Contrast', 'type_num': 6},\n {'y': 6, 'x': 5, 'type': 'Result', 'type_num': 9},\n {'y': 7, 'x': 6, 'type': 'Question-answer_pair', 'type_num': 4},\n {'y': 8, 'x': 7, 'type': 'Contrast', 'type_num': 6},\n {'y': 9, 'x': 8, 'type': 'Result', 'type_num': 9},\n {'y': 10, 'x': 9, 'type': 'Explanation', 'type_num': 1},\n {'y': 11, 'x': 9, 'type': 'Result', 'type_num': 9},\n {'y': 12, 'x': 11, 'type': 'Comment', 'type_num': 2},\n {'y': 13, 'x': 12, 'type': 'Result', 'type_num': 9},\n {'y': 14, 'x': 13, 'type': 'Explanation', 'type_num': 1},\n {'y': 15, 'x': 13, 'type': 'Elaboration', 'type_num': 10},\n {'y': 16, 'x': 14, 'type': 'Elaboration', 'type_num': 10},\n {'y': 17, 'x': 15, 'type': 'Continuation', 'type_num': 0},\n {'y': 18, 'x': 16, 'type': 'Elaboration', 'type_num': 10},\n {'y': 19, 'x': 18, 'type': 'Acknowledgement', 'type_num': 7}]"
     },
     "execution_count": 10,
     "metadata": {},
     "output_type": "execute_result"
    }
   ],
   "source": [
    "diag_str_tr[20]['relations']"
   ],
   "metadata": {
    "collapsed": false,
    "pycharm": {
     "name": "#%%\n"
    }
   }
  },
  {
   "cell_type": "code",
   "execution_count": 12,
   "outputs": [],
   "source": [
    "import copy\n",
    "for data in [diag_str_tr, diag_str_va, diag_str_te]:\n",
    "    for dial in data:\n",
    "        relations = copy.deepcopy(dial['relations'])\n",
    "        for line in relations:\n",
    "            if line['type'] is None:\n",
    "                dial['relations'].remove(line)"
   ],
   "metadata": {
    "collapsed": false,
    "pycharm": {
     "name": "#%%\n"
    }
   }
  },
  {
   "cell_type": "code",
   "execution_count": 13,
   "outputs": [],
   "source": [
    "action_daily = {}\n",
    "structure_daily = {}\n",
    "for data in [zip(diag_act_tr, diag_str_tr), zip(diag_act_va, diag_str_va), zip(diag_act_te, diag_str_te)]:\n",
    "    for item_c, item_s in data:\n",
    "        action_daily[item_s['id']] = item_c\n",
    "        structure_daily[item_s['id']] = item_s['relations']"
   ],
   "metadata": {
    "collapsed": false,
    "pycharm": {
     "name": "#%%\n"
    }
   }
  },
  {
   "cell_type": "code",
   "execution_count": 14,
   "outputs": [],
   "source": [
    "printlist_daily = [convSpeakers, convInputSequence, convinputMaxSequenceLength, convActLabels, convEmotionLabels, train_conv_ids, test_conv_ids, valid_conv_ids, structure_daily, action_daily]\n",
    "pickle.dump(printlist_daily, open('./data/dailydialog/Daily_parsed.pkl', 'wb'))"
   ],
   "metadata": {
    "collapsed": false,
    "pycharm": {
     "name": "#%%\n"
    }
   }
  }
 ],
 "metadata": {
  "kernelspec": {
   "display_name": "Python 3",
   "language": "python",
   "name": "python3"
  },
  "language_info": {
   "codemirror_mode": {
    "name": "ipython",
    "version": 2
   },
   "file_extension": ".py",
   "mimetype": "text/x-python",
   "name": "python",
   "nbconvert_exporter": "python",
   "pygments_lexer": "ipython2",
   "version": "2.7.6"
  }
 },
 "nbformat": 4,
 "nbformat_minor": 0
}